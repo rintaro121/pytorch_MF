{
 "cells": [
  {
   "cell_type": "code",
   "execution_count": null,
   "metadata": {},
   "outputs": [],
   "source": [
    "import os\n",
    "\n",
    "import pandas as pd\n",
    "import matplotlib.pyplot as plt\n",
    "import torch\n",
    "import torch.nn as nn\n",
    "from torch.utils.data import Dataset, DataLoader"
   ]
  },
  {
   "cell_type": "markdown",
   "metadata": {},
   "source": [
    "# Movielens-1mのダウンロード"
   ]
  },
  {
   "cell_type": "code",
   "execution_count": null,
   "metadata": {},
   "outputs": [],
   "source": [
    "!wget https://files.grouplens.org/datasets/movielens/ml-1m.zip\n",
    "!unzip ml-1m.zip"
   ]
  },
  {
   "cell_type": "code",
   "execution_count": null,
   "metadata": {},
   "outputs": [],
   "source": [
    "df_ratings = pd.read_csv(\n",
    "    \"ml-1m/ratings.dat\",\n",
    "    sep=\"::\",\n",
    "    engine=\"python\",\n",
    "    header=None,\n",
    "    names=[\"user_id\", \"movie_id\", \"rating\", \"timestamp\"],\n",
    "    encoding=\"latin-1\",\n",
    ")\n",
    "\n",
    "\n",
    "df_movies = pd.read_csv(\n",
    "    \"ml-1m/movies.dat\",\n",
    "    sep=\"::\",\n",
    "    engine=\"python\",\n",
    "    header=None,\n",
    "    names=[\"movie_id\", \"title\", \"genres\"],\n",
    "    encoding=\"latin-1\",\n",
    ")"
   ]
  },
  {
   "cell_type": "code",
   "execution_count": null,
   "metadata": {},
   "outputs": [],
   "source": [
    "# userの映画に対する評価値の確認\n",
    "df_ratings.head()"
   ]
  },
  {
   "cell_type": "code",
   "execution_count": null,
   "metadata": {},
   "outputs": [],
   "source": [
    "# 映画のタイトルの確認\n",
    "df_movies.head()"
   ]
  },
  {
   "cell_type": "code",
   "execution_count": null,
   "metadata": {},
   "outputs": [],
   "source": [
    "# movie_id=1(toy stoty)に対する評価を表示\n",
    "ratings_of_toystory = df_ratings[df_ratings[\"movie_id\"]==1][\"rating\"]\n",
    "plt.hist(ratings_of_toystory, bins=[0.5, 1.5, 2.5, 3.5, 4.5, 5.5], rwidth=0.5)\n",
    "plt.xticks(range(1, 6))\n",
    "plt.show()"
   ]
  },
  {
   "cell_type": "markdown",
   "metadata": {},
   "source": [
    "# データの前処理"
   ]
  },
  {
   "cell_type": "code",
   "execution_count": null,
   "metadata": {},
   "outputs": [],
   "source": [
    "from sklearn import preprocessing\n",
    "from sklearn import model_selection\n",
    "\n",
    "le_user = preprocessing.LabelEncoder()\n",
    "le_movie = preprocessing.LabelEncoder()\n",
    "df_ratings[\"user_id\"] = le_user.fit_transform(df_ratings.user_id.values)\n",
    "df_ratings[\"movie_id\"] = le_movie.fit_transform(df_ratings.movie_id.values)"
   ]
  },
  {
   "cell_type": "code",
   "execution_count": null,
   "metadata": {},
   "outputs": [],
   "source": [
    "df_train, df_valid = model_selection.train_test_split(\n",
    "    df_ratings, test_size=0.2, random_state=42\n",
    ")"
   ]
  },
  {
   "cell_type": "markdown",
   "metadata": {},
   "source": [
    "# Datasetの作成"
   ]
  },
  {
   "cell_type": "code",
   "execution_count": null,
   "metadata": {},
   "outputs": [],
   "source": [
    "class MovilensDataset(Dataset):\n",
    "    def __init__(self, df):\n",
    "        self.df = df\n",
    "        self.users = df.user_id.values\n",
    "        self.items = df.movie_id.values\n",
    "        self.ratings = df.rating.values\n",
    "\n",
    "    def __len__(self):\n",
    "        return len(self.df)\n",
    "\n",
    "    def __getitem__(self, idx):\n",
    "        user_id = self.users[idx]\n",
    "        movie_id = self.items[idx]\n",
    "        ratings = self.ratings[idx]\n",
    "\n",
    "        return {\n",
    "            \"users\": torch.tensor(user_id, dtype=torch.long),\n",
    "            \"movies\": torch.tensor(movie_id, dtype=torch.long),\n",
    "            \"ratings\": torch.tensor(ratings, dtype=torch.float),\n",
    "        }\n"
   ]
  },
  {
   "cell_type": "markdown",
   "metadata": {},
   "source": [
    "# モデルの作成"
   ]
  },
  {
   "cell_type": "code",
   "execution_count": null,
   "metadata": {},
   "outputs": [],
   "source": [
    "class MatrixFactorization(nn.Module):\n",
    "    def __init__(self, num_users, num_items, num_factors):\n",
    "        super().__init__()\n",
    "\n",
    "        self.user_emb = nn.Embedding(num_users, num_factors)\n",
    "        self.item_emb = nn.Embedding(num_items, num_factors)\n",
    "\n",
    "        self.user_bias = nn.Embedding(num_users, 1)\n",
    "        self.item_bias = nn.Embedding(num_items, 1)\n",
    "\n",
    "    def forward(self, user_id, item_id):\n",
    "        user_feats = self.user_emb(user_id)\n",
    "        item_feats = self.item_emb(item_id)\n",
    "\n",
    "        user_bias = self.user_bias(user_id)\n",
    "        item_bias = self.item_bias(item_id)\n",
    "\n",
    "        outputs = (user_feats*item_feats).sum(1) + torch.squeeze(user_bias) +  torch.squeeze(item_bias)\n",
    "\n",
    "        return  outputs"
   ]
  },
  {
   "cell_type": "code",
   "execution_count": null,
   "metadata": {},
   "outputs": [],
   "source": [
    "num_users = len(le_user.classes_)\n",
    "num_items = len(le_movie.classes_)\n",
    "num_factors = 50\n",
    "\n",
    "device = 'cuda:0' if torch.cuda.is_available() else 'cpu'\n",
    "\n",
    "model = MatrixFactorization(num_users, num_items, num_factors)\n",
    "model = model.to(device)\n",
    "\n",
    "print(device)\n",
    "print(model)"
   ]
  },
  {
   "cell_type": "markdown",
   "metadata": {},
   "source": [
    "# モデルの学習"
   ]
  },
  {
   "cell_type": "code",
   "execution_count": null,
   "metadata": {},
   "outputs": [],
   "source": [
    "batch_size = 256\n",
    "\n",
    "train_size = len(df_train)\n",
    "valid_size = len(df_valid)\n",
    "\n",
    "train_dataset = MovilensDataset(df_train)\n",
    "valid_dataset = MovilensDataset(df_valid)\n",
    "\n",
    "train_dataloader = DataLoader(train_dataset, batch_size=batch_size, shuffle=True)\n",
    "valid_dataloader = DataLoader(valid_dataset, batch_size=batch_size, shuffle=False)"
   ]
  },
  {
   "cell_type": "code",
   "execution_count": null,
   "metadata": {},
   "outputs": [],
   "source": [
    "lr = 5e-4\n",
    "wd = 1e-5\n",
    "epochs = 20\n",
    "\n",
    "criterion = nn.MSELoss(reduction=\"sum\")\n",
    "optimizer = torch.optim.SGD(model.parameters(), lr=lr, weight_decay=wd)\n",
    "\n",
    "train_loss_log = []\n",
    "valid_loss_log = []\n",
    "\n",
    "\n",
    "for epoch in range(epochs):\n",
    "    model.train()\n",
    "    train_running_loss = 0.0\n",
    "    for batch in train_dataloader:\n",
    "\n",
    "        user_ids = batch[\"users\"].to(device)\n",
    "        item_ids = batch[\"movies\"].to(device)\n",
    "        ratings = batch[\"ratings\"].to(device)\n",
    "\n",
    "        outputs = model(user_ids, item_ids)\n",
    "\n",
    "        optimizer.zero_grad()\n",
    "        loss = criterion(outputs, ratings)\n",
    "        loss.backward()\n",
    "        optimizer.step()\n",
    "\n",
    "        train_running_loss += loss.item()\n",
    "\n",
    "    model.eval()\n",
    "    with torch.no_grad():\n",
    "        valid_running_loss = 0.0\n",
    "        for batch in valid_dataloader:\n",
    "            user_ids = batch[\"users\"].to(device)\n",
    "            item_ids = batch[\"movies\"].to(device)\n",
    "            ratings = batch[\"ratings\"].to(device)\n",
    "\n",
    "            outputs = model(user_ids, item_ids)\n",
    "\n",
    "            loss = criterion(outputs, ratings)\n",
    "            valid_running_loss += loss.item()\n",
    "\n",
    "    train_loss = train_running_loss / train_size\n",
    "    valid_loss = valid_running_loss / valid_size\n",
    "\n",
    "    train_loss_log.append(train_loss)\n",
    "    valid_loss_log.append(valid_loss)\n",
    "\n",
    "    print(f\"[epoch {epoch+1}] train loss: {train_loss:.5f}   valid loss: {valid_loss:.5f}\")"
   ]
  },
  {
   "cell_type": "markdown",
   "metadata": {},
   "source": [
    "# 学習結果"
   ]
  },
  {
   "cell_type": "code",
   "execution_count": null,
   "metadata": {},
   "outputs": [],
   "source": [
    "plt.plot(train_loss_log, label=\"train\")\n",
    "plt.plot(valid_loss_log, label=\"valid\")\n",
    "\n",
    "plt.xticks(range(len(train_loss_log)))\n",
    "\n",
    "plt.xlabel(\"epoch\")\n",
    "plt.ylabel(\"MSE loss\")\n",
    "\n",
    "plt.legend()\n",
    "\n",
    "plt.show()"
   ]
  },
  {
   "cell_type": "markdown",
   "metadata": {},
   "source": [
    "## 学習された特徴ベクトルの確認"
   ]
  },
  {
   "cell_type": "code",
   "execution_count": null,
   "metadata": {},
   "outputs": [],
   "source": [
    "df_movies[(df_movies[\"movie_id\"] == 1) | (df_movies[\"movie_id\"] == 1196) | (df_movies[\"movie_id\"] == 1210)]"
   ]
  },
  {
   "cell_type": "code",
   "execution_count": null,
   "metadata": {},
   "outputs": [],
   "source": [
    "toystory_id = 1\n",
    "starwars5_id = 1196\n",
    "starwars6_id = 1210\n",
    "\n",
    "toystory_label, starwars5_label, starwars6_label = le_movie.transform([toystory_id ,starwars5_id, starwars6_id])\n",
    "\n",
    "toystory_emb = model.item_emb(torch.tensor(toystory_label).to(device))\n",
    "starwars5_emb = model.item_emb(torch.tensor(starwars5_label).to(device))\n",
    "starwars6_emb = model.item_emb(torch.tensor(starwars6_label).to(device))\n",
    "\n",
    "print(f\"Toy StoryとStarWars VのCOS類似度   : {F.cosine_similarity(toystory_emb, starwars5_emb, dim=-1):.4f}\")\n",
    "print(f\"Toy StoryとStarWars VIのCOS類似度  : {F.cosine_similarity(toystory_emb, starwars6_emb, dim=-1):.4f}\")\n",
    "print(f\"StarWars VとStarWars VIのCOS類似度 : {F.cosine_similarity(starwars5_emb, starwars6_emb, dim=-1):.4f}\")"
   ]
  },
  {
   "cell_type": "code",
   "execution_count": null,
   "metadata": {},
   "outputs": [],
   "source": []
  }
 ],
 "metadata": {
  "kernelspec": {
   "display_name": "pytorch-mf-ntH2beXx-py3.11",
   "language": "python",
   "name": "python3"
  },
  "language_info": {
   "codemirror_mode": {
    "name": "ipython",
    "version": 3
   },
   "file_extension": ".py",
   "mimetype": "text/x-python",
   "name": "python",
   "nbconvert_exporter": "python",
   "pygments_lexer": "ipython3",
   "version": "3.11.9"
  }
 },
 "nbformat": 4,
 "nbformat_minor": 2
}
